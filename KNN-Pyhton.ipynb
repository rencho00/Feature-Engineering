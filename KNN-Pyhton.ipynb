{
 "cells": [
  {
   "cell_type": "code",
   "execution_count": 30,
   "metadata": {},
   "outputs": [],
   "source": [
    "import numpy as np\n",
    "import math\n",
    "from sklearn.datasets import load_iris\n",
    "from sklearn.model_selection import train_test_split\n",
    "from sklearn.metrics import classification_report , accuracy_score\n",
    "from operator import itemgetter\n",
    "from collections import Counter"
   ]
  },
  {
   "cell_type": "code",
   "execution_count": 40,
   "metadata": {},
   "outputs": [
    {
     "name": "stdout",
     "output_type": "stream",
     "text": [
      "Classifiying test instance number 0:\n"
     ]
    },
    {
     "ename": "IndexError",
     "evalue": "too many indices for array",
     "output_type": "error",
     "traceback": [
      "\u001b[1;31m---------------------------------------------------------------------------\u001b[0m",
      "\u001b[1;31mIndexError\u001b[0m                                Traceback (most recent call last)",
      "\u001b[1;32m<ipython-input-40-f88ea941f79c>\u001b[0m in \u001b[0;36m<module>\u001b[1;34m\u001b[0m\n\u001b[0;32m     70\u001b[0m \u001b[1;33m\u001b[0m\u001b[0m\n\u001b[0;32m     71\u001b[0m \u001b[1;32mif\u001b[0m \u001b[0m__name__\u001b[0m \u001b[1;33m==\u001b[0m \u001b[1;34m\"__main__\"\u001b[0m\u001b[1;33m:\u001b[0m\u001b[1;33m\u001b[0m\u001b[1;33m\u001b[0m\u001b[0m\n\u001b[1;32m---> 72\u001b[1;33m           \u001b[0mmain\u001b[0m\u001b[1;33m(\u001b[0m\u001b[1;33m)\u001b[0m\u001b[1;33m\u001b[0m\u001b[1;33m\u001b[0m\u001b[0m\n\u001b[0m\u001b[0;32m     73\u001b[0m \u001b[1;33m\u001b[0m\u001b[0m\n\u001b[0;32m     74\u001b[0m \u001b[1;33m\u001b[0m\u001b[0m\n",
      "\u001b[1;32m<ipython-input-40-f88ea941f79c>\u001b[0m in \u001b[0;36mmain\u001b[1;34m()\u001b[0m\n\u001b[0;32m     54\u001b[0m         \u001b[0mprint\u001b[0m\u001b[1;33m(\u001b[0m\u001b[1;34m\"Classifiying test instance number \"\u001b[0m\u001b[1;33m+\u001b[0m\u001b[0mstr\u001b[0m\u001b[1;33m(\u001b[0m\u001b[0mx\u001b[0m\u001b[1;33m)\u001b[0m\u001b[1;33m+\u001b[0m\u001b[1;34m\":\"\u001b[0m\u001b[1;33m)\u001b[0m\u001b[1;33m\u001b[0m\u001b[1;33m\u001b[0m\u001b[0m\n\u001b[0;32m     55\u001b[0m \u001b[1;33m\u001b[0m\u001b[0m\n\u001b[1;32m---> 56\u001b[1;33m         \u001b[0mneighbours\u001b[0m \u001b[1;33m=\u001b[0m \u001b[0mget_neighbours\u001b[0m \u001b[1;33m(\u001b[0m\u001b[0mtraining_set\u001b[0m\u001b[1;33m=\u001b[0m \u001b[0mtrain\u001b[0m\u001b[1;33m,\u001b[0m \u001b[0mtest_instance\u001b[0m\u001b[1;33m=\u001b[0m \u001b[0mtest\u001b[0m\u001b[1;33m[\u001b[0m\u001b[0mx\u001b[0m\u001b[1;33m]\u001b[0m\u001b[1;33m[\u001b[0m\u001b[1;36m0\u001b[0m\u001b[1;33m]\u001b[0m\u001b[1;33m,\u001b[0m \u001b[0mk\u001b[0m\u001b[1;33m=\u001b[0m\u001b[1;36m5\u001b[0m\u001b[1;33m)\u001b[0m\u001b[1;33m\u001b[0m\u001b[1;33m\u001b[0m\u001b[0m\n\u001b[0m\u001b[0;32m     57\u001b[0m \u001b[1;33m\u001b[0m\u001b[0m\n\u001b[0;32m     58\u001b[0m         \u001b[0mmajority_vote\u001b[0m \u001b[1;33m=\u001b[0m \u001b[0mget_majority_vote\u001b[0m\u001b[1;33m(\u001b[0m\u001b[0mneighbours\u001b[0m\u001b[1;33m)\u001b[0m\u001b[1;33m\u001b[0m\u001b[1;33m\u001b[0m\u001b[0m\n",
      "\u001b[1;31mIndexError\u001b[0m: too many indices for array"
     ]
    }
   ],
   "source": [
    "## given data points , calculate euclidean distance b/w\n",
    "\n",
    "def get_distance(data1, data2):\n",
    "    \n",
    "    points = zip(data1 , data2)\n",
    "    \n",
    "    diff_sq = [pow(a-b, 2)  for (a, b) in points]\n",
    "    \n",
    "    return math.sqrt(diff_sq)\n",
    "\n",
    "\n",
    "def get_neighbours (training_set, test_instance, k):\n",
    "    \n",
    "    distance= [ get_tuple_distnace(training_instance, test_instance)  for training in training_set]\n",
    "    \n",
    "    sorted_distance = sorted(distance , key = itemgetter(1))\n",
    "    \n",
    "    sorted_training_instances = [tuple[0] for tuple in sorted_distance]\n",
    "    \n",
    "    return sorted_training_instances[:k]\n",
    "\n",
    "def get_tuple_distnace(training_instance, testing_instance):\n",
    "    \n",
    "    return (training_instance,get_distance(test_instance, training_instance[0]))\n",
    "\n",
    "\n",
    "\n",
    "def get_majority_vote(neighbours):\n",
    "    \n",
    "    classes = [neighbour[1] for neighbour in neighbours]\n",
    "    \n",
    "    count = Counter(classes)\n",
    "    \n",
    "    return count.most_common()[0][0]\n",
    "\n",
    "\n",
    "\n",
    "def main():\n",
    "    \n",
    "    \n",
    "    iris = load_iris()\n",
    "    \n",
    "    X_train, X_test, y_train, y_test = train_test_split (iris.data, iris.target, test_size = 0.3, random_state = 1)\n",
    "    \n",
    "    train= np.array(zip(X_train, y_train))\n",
    "    \n",
    "    test= np.array(zip(X_test, y_test))\n",
    "    \n",
    "    prediction=[]\n",
    "    k= 5\n",
    "    \n",
    "    for x in range(len(X_test)):\n",
    "        \n",
    "        print(\"Classifiying test instance number \"+str(x)+\":\")\n",
    "        \n",
    "        neighbours = get_neighbours (training_set= train, test_instance= test[x][0], k=5)\n",
    "        \n",
    "        majority_vote = get_majority_vote(neighbours)\n",
    "        \n",
    "        prediction.append(majority_vote)\n",
    "        \n",
    "        print(\"Predicted_label = \"+str(majority_vote)  +' Actual labe == '+str(test[x][1]))\n",
    "        \n",
    "    print (' Overall  Accuracy of model is :', (accuracy_score(y_test, prediction))\n",
    "          \n",
    "          ,report= classification_report(y_test, prediction, target_names= iris.target_names))\n",
    "          \n",
    "    print('A detailed classification report :\\n\\n'+ report)\n",
    "\n",
    "          \n",
    "if __name__ == \"__main__\":\n",
    "          main()\n",
    "\n",
    "\n"
   ]
  },
  {
   "cell_type": "code",
   "execution_count": null,
   "metadata": {},
   "outputs": [],
   "source": []
  }
 ],
 "metadata": {
  "kernelspec": {
   "display_name": "Python 3",
   "language": "python",
   "name": "python3"
  },
  "language_info": {
   "codemirror_mode": {
    "name": "ipython",
    "version": 3
   },
   "file_extension": ".py",
   "mimetype": "text/x-python",
   "name": "python",
   "nbconvert_exporter": "python",
   "pygments_lexer": "ipython3",
   "version": "3.7.6"
  }
 },
 "nbformat": 4,
 "nbformat_minor": 4
}
