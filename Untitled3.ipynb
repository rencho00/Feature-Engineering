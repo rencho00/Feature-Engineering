{
 "cells": [
  {
   "cell_type": "code",
   "execution_count": 1,
   "metadata": {},
   "outputs": [],
   "source": [
    "import numpy as np\n",
    "import pandas as pd"
   ]
  },
  {
   "cell_type": "code",
   "execution_count": 7,
   "metadata": {},
   "outputs": [
    {
     "name": "stdout",
     "output_type": "stream",
     "text": [
      "0      1\n",
      "1      3\n",
      "2      5\n",
      "3      7\n",
      "4      9\n",
      "5     11\n",
      "6     13\n",
      "7     15\n",
      "8     17\n",
      "9     19\n",
      "10    21\n",
      "11    23\n",
      "dtype: int32\n"
     ]
    }
   ],
   "source": [
    "n=np.arange(1,25,2)\n",
    "b=pd.Series(n)\n",
    "print(b)"
   ]
  },
  {
   "cell_type": "code",
   "execution_count": 9,
   "metadata": {},
   "outputs": [
    {
     "name": "stdout",
     "output_type": "stream",
     "text": [
      "a    12\n",
      "b    23\n",
      "c    43\n",
      "dtype: int64\n",
      "12\n"
     ]
    }
   ],
   "source": [
    "data={'a':12,'b':23,'c':43}\n",
    "n=pd.Series(data)\n",
    "print(n)\n",
    "print(n['a'])"
   ]
  },
  {
   "cell_type": "code",
   "execution_count": 13,
   "metadata": {},
   "outputs": [
    {
     "name": "stdout",
     "output_type": "stream",
     "text": [
      "    ndmd\n",
      "2      1\n",
      "4      3\n",
      "6      5\n",
      "8      7\n",
      "10     9\n",
      "12    11\n",
      "14    13\n",
      "16    15\n",
      "18    17\n",
      "20    19\n",
      "22    21\n",
      "24    23\n"
     ]
    }
   ],
   "source": [
    "n=np.arange(1,25,2)\n",
    "x=np.arange(2,26,2)\n",
    "d=pd.DataFrame(n,x,columns=['ndmd'])\n",
    "print(d)"
   ]
  },
  {
   "cell_type": "code",
   "execution_count": 14,
   "metadata": {},
   "outputs": [
    {
     "name": "stdout",
     "output_type": "stream",
     "text": [
      "     NAME  AGE\n",
      "0   mohit   20\n",
      "1   sagar   25\n",
      "2  rencho   34\n"
     ]
    }
   ],
   "source": [
    "n=[['mohit',20],['sagar',25],['rencho',34]]\n",
    "d=pd.DataFrame(n,columns=['NAME','AGE'])\n",
    "print(d)"
   ]
  },
  {
   "cell_type": "code",
   "execution_count": 16,
   "metadata": {},
   "outputs": [
    {
     "name": "stdout",
     "output_type": "stream",
     "text": [
      "     NAME  AGE\n",
      "0   mohit   23\n",
      "1   sagar   34\n",
      "2  rencho   21\n"
     ]
    }
   ],
   "source": [
    "n={'NAME':['mohit','sagar','rencho'],'AGE':[23,34,21]}\n",
    "d=pd.DataFrame(n)\n",
    "print(d)"
   ]
  },
  {
   "cell_type": "code",
   "execution_count": 25,
   "metadata": {},
   "outputs": [
    {
     "name": "stdout",
     "output_type": "stream",
     "text": [
      "       col1      col2      col3\n",
      "0  0.290833 -0.432133  0.256445\n",
      "1  0.842585 -1.251860  0.836968\n",
      "2  0.818480  0.332016  2.001621\n",
      "3 -0.562252  0.349530 -0.776434\n",
      "('col1', 0    0.290833\n",
      "1    0.842585\n",
      "2    0.818480\n",
      "3   -0.562252\n",
      "Name: col1, dtype: float64)\n",
      "('col2', 0   -0.432133\n",
      "1   -1.251860\n",
      "2    0.332016\n",
      "3    0.349530\n",
      "Name: col2, dtype: float64)\n",
      "('col3', 0    0.256445\n",
      "1    0.836968\n",
      "2    2.001621\n",
      "3   -0.776434\n",
      "Name: col3, dtype: float64)\n",
      "0 col1    0.290833\n",
      "col2   -0.432133\n",
      "col3    0.256445\n",
      "Name: 0, dtype: float64\n",
      "1 col1    0.842585\n",
      "col2   -1.251860\n",
      "col3    0.836968\n",
      "Name: 1, dtype: float64\n",
      "2 col1    0.818480\n",
      "col2    0.332016\n",
      "col3    2.001621\n",
      "Name: 2, dtype: float64\n",
      "3 col1   -0.562252\n",
      "col2    0.349530\n",
      "col3   -0.776434\n",
      "Name: 3, dtype: float64\n"
     ]
    }
   ],
   "source": [
    "n=pd.DataFrame(np.random.randn(4,3),columns=['col1','col2','col3'])\n",
    "print(n)\n",
    "for value in n.iteritems():\n",
    "    print(value)\n",
    "for row_index,rows in n.iterrows():\n",
    "    print (row_index,rows)"
   ]
  },
  {
   "cell_type": "code",
   "execution_count": 26,
   "metadata": {},
   "outputs": [
    {
     "name": "stdout",
     "output_type": "stream",
     "text": [
      "0      tom\n",
      "1    jerry\n",
      "2      NaN\n",
      "3    steve\n",
      "dtype: object\n"
     ]
    }
   ],
   "source": [
    "n=pd.Series(['Tom','JERry',np.nan,'STEVE'])\n",
    "print(n.str.lower())"
   ]
  },
  {
   "cell_type": "code",
   "execution_count": 27,
   "metadata": {},
   "outputs": [
    {
     "name": "stdout",
     "output_type": "stream",
     "text": [
      "60\n"
     ]
    }
   ],
   "source": [
    "print(pd.get_option(\"display.max_rows\"))"
   ]
  },
  {
   "cell_type": "code",
   "execution_count": 36,
   "metadata": {},
   "outputs": [
    {
     "name": "stdout",
     "output_type": "stream",
     "text": [
      "          A         B         C         D\n",
      "a  0.442702  0.629019  0.917671  0.418573\n",
      "b  0.035618  0.887450  0.125968  0.065850\n",
      "c  0.668149  0.186774  0.780706  0.000997\n",
      "d  0.274772  0.308593  0.961321  0.461777\n",
      "e  0.864792  0.628455  0.762628  0.101795\n",
      "f  0.801949  0.761365  0.828643  0.851083\n",
      "g  0.213808  0.826717  0.613321  0.886260\n",
      "h  0.282607  0.144603  0.715401  0.064007\n",
      "a    0.442702\n",
      "b    0.035618\n",
      "c    0.668149\n",
      "d    0.274772\n",
      "e    0.864792\n",
      "f    0.801949\n",
      "g    0.213808\n",
      "h    0.282607\n",
      "Name: A, dtype: float64\n",
      "          A         D\n",
      "a  0.442702  0.418573\n",
      "c  0.668149  0.000997\n"
     ]
    }
   ],
   "source": [
    "n=pd.DataFrame(np.random.rand(8,4),index=['a','b','c','d','e','f','g','h'],columns=['A','B','C','D'])\n",
    "print(n)\n",
    "print(n.loc[:,'A'])\n",
    "print(n.loc[['a','c'],['A','D']])"
   ]
  },
  {
   "cell_type": "code",
   "execution_count": null,
   "metadata": {},
   "outputs": [],
   "source": []
  },
  {
   "cell_type": "code",
   "execution_count": 37,
   "metadata": {},
   "outputs": [],
   "source": [
    "import pandas as pd"
   ]
  },
  {
   "cell_type": "code",
   "execution_count": 39,
   "metadata": {},
   "outputs": [],
   "source": [
    "ipl={'team':['Riders','Riders','Devils','Devils','kings','Kings','Kings','Kings','Riders','Royals','Royals','Riders'],\n",
    "    'Rank':[1,2,2,3,3,4,1,1,2,4,1,2],\n",
    "    'Year':[2014,2015,2014,2015,2014,2015,2016,2017,2016,2014,2015,2017],\n",
    "    'Points':[876,789,863,673,741,812,756,788,694,701,804,690]}\n",
    "d=pd.DataFrame(ipl)"
   ]
  },
  {
   "cell_type": "code",
   "execution_count": 41,
   "metadata": {},
   "outputs": [
    {
     "name": "stdout",
     "output_type": "stream",
     "text": [
      "<pandas.core.groupby.generic.DataFrameGroupBy object at 0x0000020B6D3DDF88>\n"
     ]
    }
   ],
   "source": [
    "print(d.groupby('team'))"
   ]
  },
  {
   "cell_type": "code",
   "execution_count": 42,
   "metadata": {},
   "outputs": [
    {
     "name": "stdout",
     "output_type": "stream",
     "text": [
      "{'Devils': Int64Index([2, 3], dtype='int64'), 'Kings': Int64Index([5, 6, 7], dtype='int64'), 'Riders': Int64Index([0, 1, 8, 11], dtype='int64'), 'Royals': Int64Index([9, 10], dtype='int64'), 'kings': Int64Index([4], dtype='int64')}\n"
     ]
    }
   ],
   "source": [
    "print(d.groupby('team').groups)"
   ]
  },
  {
   "cell_type": "code",
   "execution_count": 43,
   "metadata": {},
   "outputs": [
    {
     "name": "stdout",
     "output_type": "stream",
     "text": [
      "{('Devils', 673): Int64Index([3], dtype='int64'), ('Devils', 863): Int64Index([2], dtype='int64'), ('Kings', 756): Int64Index([6], dtype='int64'), ('Kings', 788): Int64Index([7], dtype='int64'), ('Kings', 812): Int64Index([5], dtype='int64'), ('Riders', 690): Int64Index([11], dtype='int64'), ('Riders', 694): Int64Index([8], dtype='int64'), ('Riders', 789): Int64Index([1], dtype='int64'), ('Riders', 876): Int64Index([0], dtype='int64'), ('Royals', 701): Int64Index([9], dtype='int64'), ('Royals', 804): Int64Index([10], dtype='int64'), ('kings', 741): Int64Index([4], dtype='int64')}\n"
     ]
    }
   ],
   "source": [
    "print(d.groupby(['team','Points']).groups)"
   ]
  },
  {
   "cell_type": "code",
   "execution_count": 47,
   "metadata": {},
   "outputs": [
    {
     "name": "stdout",
     "output_type": "stream",
     "text": [
      "2014\n",
      "     team  Rank  Year  Points\n",
      "0  Riders     1  2014     876\n",
      "2  Devils     2  2014     863\n",
      "4   kings     3  2014     741\n",
      "9  Royals     4  2014     701\n",
      "2015\n",
      "      team  Rank  Year  Points\n",
      "1   Riders     2  2015     789\n",
      "3   Devils     3  2015     673\n",
      "5    Kings     4  2015     812\n",
      "10  Royals     1  2015     804\n",
      "2016\n",
      "     team  Rank  Year  Points\n",
      "6   Kings     1  2016     756\n",
      "8  Riders     2  2016     694\n",
      "2017\n",
      "      team  Rank  Year  Points\n",
      "7    Kings     1  2017     788\n",
      "11  Riders     2  2017     690\n"
     ]
    }
   ],
   "source": [
    "df=d.groupby('Year')\n",
    "for name,group in df:\n",
    "    print(name)\n",
    "    print(group)"
   ]
  },
  {
   "cell_type": "code",
   "execution_count": 50,
   "metadata": {},
   "outputs": [
    {
     "name": "stdout",
     "output_type": "stream",
     "text": [
      "     team  Rank  Year  Points\n",
      "0  Riders     1  2014     876\n",
      "2  Devils     2  2014     863\n",
      "4   kings     3  2014     741\n",
      "9  Royals     4  2014     701\n"
     ]
    }
   ],
   "source": [
    "grouped=d.groupby('Year')\n",
    "print(grouped.get_group(2014))"
   ]
  },
  {
   "cell_type": "code",
   "execution_count": 51,
   "metadata": {},
   "outputs": [
    {
     "name": "stdout",
     "output_type": "stream",
     "text": [
      "Year\n",
      "2014    795.25\n",
      "2015    769.50\n",
      "2016    725.00\n",
      "2017    739.00\n",
      "Name: Points, dtype: float64\n"
     ]
    }
   ],
   "source": [
    "print(grouped['Points'].agg(np.mean))"
   ]
  },
  {
   "cell_type": "code",
   "execution_count": 52,
   "metadata": {},
   "outputs": [],
   "source": [
    "import numpy as np\n",
    "import pandas as pd\n"
   ]
  },
  {
   "cell_type": "code",
   "execution_count": 53,
   "metadata": {},
   "outputs": [],
   "source": [
    "n=np.array(['a','b','c','d'])"
   ]
  },
  {
   "cell_type": "code",
   "execution_count": 56,
   "metadata": {},
   "outputs": [
    {
     "name": "stdout",
     "output_type": "stream",
     "text": [
      "101    a\n",
      "102    b\n",
      "103    c\n",
      "104    d\n",
      "dtype: object\n"
     ]
    }
   ],
   "source": [
    "d=pd.Series(n,index=[101,102,103,104])\n",
    "print(d)"
   ]
  },
  {
   "cell_type": "code",
   "execution_count": 57,
   "metadata": {},
   "outputs": [
    {
     "name": "stdout",
     "output_type": "stream",
     "text": [
      "a    1\n",
      "b    2\n",
      "c    3\n",
      "d    4\n",
      "dtype: int64\n"
     ]
    }
   ],
   "source": [
    "data={'a':1,'b':2,'c':3,'d':4}\n",
    "print(pd.Series(data))"
   ]
  },
  {
   "cell_type": "code",
   "execution_count": 60,
   "metadata": {},
   "outputs": [
    {
     "name": "stdout",
     "output_type": "stream",
     "text": [
      "a    1.0\n",
      "c    3.0\n",
      "d    NaN\n",
      "b    2.0\n",
      "dtype: float64\n",
      "3.0\n",
      "a    1.0\n",
      "c    3.0\n",
      "d    NaN\n",
      "dtype: float64\n"
     ]
    }
   ],
   "source": [
    "data={'a':1,'b':2,'c':3}\n",
    "s=pd.Series(data,index=['a','c','d','b'])\n",
    "print(s)\n",
    "print(s[1])\n",
    "print(s[:3])"
   ]
  },
  {
   "cell_type": "code",
   "execution_count": 65,
   "metadata": {},
   "outputs": [
    {
     "name": "stdout",
     "output_type": "stream",
     "text": [
      "   M\n",
      "a  1\n",
      "b  2\n",
      "c  3\n",
      "d  4\n",
      "e  5\n"
     ]
    }
   ],
   "source": [
    "data=[1,2,3,4,5]\n",
    "print(pd.DataFrame(data,index=['a','b','c','d','e'],columns=['M']))"
   ]
  },
  {
   "cell_type": "code",
   "execution_count": 66,
   "metadata": {},
   "outputs": [
    {
     "name": "stdout",
     "output_type": "stream",
     "text": [
      "     Name  Age\n",
      "0   Mohit   23\n",
      "1   Sagar   34\n",
      "2  rencho   21\n"
     ]
    }
   ],
   "source": [
    "data=[['Mohit',23],['Sagar',34],['rencho',21]]\n",
    "print(pd.DataFrame(data,columns=['Name','Age']))"
   ]
  },
  {
   "cell_type": "code",
   "execution_count": 67,
   "metadata": {},
   "outputs": [
    {
     "name": "stdout",
     "output_type": "stream",
     "text": [
      "   One\n",
      "a    1\n",
      "b    2\n",
      "c    3\n"
     ]
    }
   ],
   "source": [
    "data={'One':pd.Series([1,2,3],index=['a','b','c'])}\n",
    "print(pd.DataFrame(data))"
   ]
  },
  {
   "cell_type": "code",
   "execution_count": 71,
   "metadata": {},
   "outputs": [
    {
     "name": "stdout",
     "output_type": "stream",
     "text": [
      "       col1      col2      col3\n",
      "0  0.125903  0.666623  1.178196\n",
      "1  0.336658  0.950893 -1.375132\n",
      "2 -0.828111  1.112287 -0.293378\n",
      "3  0.413521  0.508717 -1.829388\n",
      "4 -0.405874  3.893818  0.129256\n",
      "0    0.656907\n",
      "1   -0.029194\n",
      "2   -0.003068\n",
      "3   -0.302383\n",
      "4    1.205733\n",
      "dtype: float64\n",
      "col1    1.241632\n",
      "col2    3.385101\n",
      "col3    3.007584\n",
      "dtype: float64\n"
     ]
    }
   ],
   "source": [
    "d=pd.DataFrame(np.random.randn(5,3),columns=['col1','col2','col3'])\n",
    "print(d)\n",
    "print(d.apply(np.mean,axis=1))\n",
    "print(d.apply(lambda x:x.max()-x.min()))"
   ]
  },
  {
   "cell_type": "code",
   "execution_count": 78,
   "metadata": {},
   "outputs": [
    {
     "name": "stdout",
     "output_type": "stream",
     "text": [
      "   X   Y    Z\n",
      "0  1   6   11\n",
      "1  2   7   12\n",
      "2  3   8  123\n",
      "3  4   9  133\n",
      "4  5  10  123\n",
      "<class 'pandas.core.frame.DataFrame'>\n",
      "RangeIndex: 5 entries, 0 to 4\n",
      "Data columns (total 3 columns):\n",
      " #   Column  Non-Null Count  Dtype\n",
      "---  ------  --------------  -----\n",
      " 0   X       5 non-null      int64\n",
      " 1   Y       5 non-null      int64\n",
      " 2   Z       5 non-null      int64\n",
      "dtypes: int64(3)\n",
      "memory usage: 248.0 bytes\n",
      "None\n",
      "   X  Y    Z\n",
      "0  1  6   11\n",
      "1  2  7   12\n",
      "2  3  8  123\n",
      "   X  Y    Z\n",
      "0  1  6   11\n",
      "1  2  7   12\n",
      "2  3  8  123\n"
     ]
    }
   ],
   "source": [
    "data={'X':[1,2,3,4,5],'Y':[6,7,8,9,10],'Z':[11,12,123,133,123]}\n",
    "print(pd.DataFrame(data))\n",
    "s=pd.DataFrame(data)\n",
    "print(s.info())\n",
    "print(s.head(3))\n",
    "print(s.iloc[:3])"
   ]
  },
  {
   "cell_type": "code",
   "execution_count": 98,
   "metadata": {},
   "outputs": [
    {
     "name": "stdout",
     "output_type": "stream",
     "text": [
      "    name  score  attempts qualify\n",
      "j  Jonas   19.0         1     yes\n"
     ]
    }
   ],
   "source": [
    "data  = {'name': ['Anastasia', 'Dima', 'Katherine', 'James', 'Emily', 'Michael', 'Matthew', 'Laura', 'Kevin', 'Jonas'],\n",
    "        'score': [12.5, 9, 16.5, np.nan, 9, 20, 14.5, np.nan, 8, 19],\n",
    "        'attempts' : [1, 3, 2, 3, 2, 3, 1, 1, 2, 1],\n",
    "        'qualify': ['yes', 'no', 'yes', 'no', 'no', 'yes', 'yes', 'no', 'no', 'yes']}\n",
    "labels = ['a', 'b', 'c', 'd', 'e', 'f', 'g', 'h', 'i', 'j']\n",
    "d=pd.DataFrame(data,index=labels)\n",
    "print(d[(d['score']>15)&(d['attempts']<2)])"
   ]
  },
  {
   "cell_type": "code",
   "execution_count": 100,
   "metadata": {},
   "outputs": [
    {
     "name": "stdout",
     "output_type": "stream",
     "text": [
      "13.5625\n"
     ]
    }
   ],
   "source": [
    "print(d['score'].mean())"
   ]
  },
  {
   "cell_type": "code",
   "execution_count": null,
   "metadata": {},
   "outputs": [],
   "source": []
  },
  {
   "cell_type": "code",
   "execution_count": null,
   "metadata": {},
   "outputs": [],
   "source": []
  },
  {
   "cell_type": "code",
   "execution_count": null,
   "metadata": {},
   "outputs": [],
   "source": []
  }
 ],
 "metadata": {
  "kernelspec": {
   "display_name": "Python 3",
   "language": "python",
   "name": "python3"
  },
  "language_info": {
   "codemirror_mode": {
    "name": "ipython",
    "version": 3
   },
   "file_extension": ".py",
   "mimetype": "text/x-python",
   "name": "python",
   "nbconvert_exporter": "python",
   "pygments_lexer": "ipython3",
   "version": "3.7.6"
  }
 },
 "nbformat": 4,
 "nbformat_minor": 4
}
