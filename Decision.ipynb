{
 "cells": [
  {
   "cell_type": "code",
   "execution_count": 1,
   "metadata": {},
   "outputs": [],
   "source": [
    "import numpy as np\n",
    "import pandas as pd\n",
    "import seaborn as sb\n",
    "import matplotlib.pyplot as plt\n",
    "%matplotlib inline"
   ]
  },
  {
   "cell_type": "code",
   "execution_count": null,
   "metadata": {},
   "outputs": [],
   "source": [
    "def entropy(target_col):\n",
    "    elements, counts = np.unique(target_col, return_counts = True)\n",
    "    entropy = np.sum([(counts[i]/np.sum(counts))*np.log2(counts[i]/np.sum(counts)) for i in range(len(elements))]) \n",
    "    return entropy\n",
    "\n",
    "def infogain(data, split, target_name= 'class'):\n",
    "    total = entropy(data[target_name])\n",
    "    vals, counts = np.unique(data[split], return_counts = True)\n",
    "    weight = np.sum([(counts[i]/np.sum(counts))*entropy(np.where(data[split] = vals[i]).dropna())  for i in range(vals)])\n",
    "    return weight\n",
    "\n",
    "def ID3(data, original, features, target_attribute='class', parent_class_node = None):\n",
    "    if len(np.unique(data[target_attribute])) <= 1:\n",
    "        return np.unique(data[target_attribute])\n",
    "    \n",
    "    elif len(data) == 0:\n",
    "        return np.unique(original[target_attribute]) [np.argmax(np.unique(original[target_attribute]), return_counts = True)]\n",
    "    \n",
    "    elif(len(feature) == 0):\n",
    "        return parent_node_class\n",
    "    \n",
    "    else:\n",
    "        parent_class_node = np.unique(data[target_attribute]) [np.argmax(np.unique(data[target_attribute]), return_counts = True)]\n",
    "\n",
    "        item_value = [infogain(data,feature,target_attribute) for feature in features]\n",
    "        best_index = np.argmax(item_value)\n",
    "        best_feature = features [best_index]\n",
    "        \n",
    "        tree = {best_feature:{}}\n",
    "        \n",
    "        features = [i for i in features if i != best_feature]\n",
    "        \n",
    "        for value in np.unique(data[best_feature]):\n",
    "             value = value \n",
    "                sub_data = data.where(data[best_feature] == value).dropna()\n",
    "                \n",
    "                sub_tree = ID3(sub_data, dataset, features, target_attribute,parent_node_class)\n",
    "                \n",
    "                tree[best_feature][value] = subtree\n",
    "                \n",
    "        return (tree)  \n",
    "\n",
    "    \n",
    "    \n",
    "    "
   ]
  }
 ],
 "metadata": {
  "kernelspec": {
   "display_name": "Python 3",
   "language": "python",
   "name": "python3"
  },
  "language_info": {
   "codemirror_mode": {
    "name": "ipython",
    "version": 3
   },
   "file_extension": ".py",
   "mimetype": "text/x-python",
   "name": "python",
   "nbconvert_exporter": "python",
   "pygments_lexer": "ipython3",
   "version": "3.7.6"
  }
 },
 "nbformat": 4,
 "nbformat_minor": 4
}
